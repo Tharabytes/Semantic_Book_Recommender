{
 "cells": [
  {
   "metadata": {},
   "cell_type": "code",
   "outputs": [],
   "execution_count": null,
   "source": [
    "def get_book_recommendations(query, num_recommendations=5):\n",
    "    # Perform similarity search\n",
    "    docs = db_books.similarity_search(query, k=num_recommendations)\n",
    "\n",
    "    # Get books details for the recommendations\n",
    "    recommended_books = []\n",
    "    for doc in docs:\n",
    "        isbn = doc.page_content.split()[0].strip().replace('\"', '')\n",
    "        book = books[books[\"isbn13\"] == int(isbn)]\n",
    "        if not book.empty:\n",
    "            recommended_books.append({\n",
    "                'title': book['title'].iloc[0],\n",
    "                'authors': book['authors'].iloc[0],\n",
    "                'description': book['description'].iloc[0],\n",
    "                'rating': book['average_rating'].iloc[0]\n",
    "            })\n",
    "\n",
    "    return recommended_books\n",
    "\n",
    "\n",
    "# Test the function with a sample query\n",
    "recommendations = get_book_recommendations(\"Science fiction books about space exploration\")\n",
    "for i, book in enumerate(recommendations, 1):\n",
    "    print(f\"\\nRecommendation {i}:\")\n",
    "    print(f\"Title: {book['title']}\")\n",
    "    print(f\"Authors: {book['authors']}\")\n",
    "    print(f\"Rating: {book['rating']}\")\n",
    "    print(f\"Description: {book['description'][:200]}...\")\n",
    "from langchain_community.document_loaders import TextLoader\n",
    "from langchain_text_splitters import CharacterTextSplitter\n",
    "from langchain_openai import OpenAIEmbeddings\n",
    "from langchain_chroma import Chroma\n",
    "from seaborn.external.docscrape import header"
   ],
   "id": "86e340c2a045c424"
  },
  {
   "metadata": {},
   "cell_type": "code",
   "outputs": [],
   "execution_count": null,
   "source": [
    "from dotenv import load_dotenv\n",
    "\n",
    "load_dotenv()"
   ],
   "id": "4017fdcf95c85782"
  },
  {
   "metadata": {},
   "cell_type": "code",
   "outputs": [],
   "execution_count": null,
   "source": [
    "import pandas as pd\n",
    "\n",
    "books = pd.read_csv(\"books_cleaned.csv\")"
   ],
   "id": "73ae536557bf5127"
  },
  {
   "metadata": {},
   "cell_type": "code",
   "outputs": [],
   "execution_count": null,
   "source": "books",
   "id": "da31ac908d24f60e"
  },
  {
   "metadata": {},
   "cell_type": "code",
   "outputs": [],
   "execution_count": null,
   "source": "books[\"tagged_description\"]",
   "id": "530b9c2785baef25"
  },
  {
   "metadata": {},
   "cell_type": "code",
   "outputs": [],
   "execution_count": null,
   "source": [
    "books[\"tagged_description\"].to_csv(\"tagged_description.txt\",\n",
    "                                   sep = \",\",\n",
    "                                   index = False,\n",
    "                                   header = False)"
   ],
   "id": "c2eeecce6f39107f"
  },
  {
   "metadata": {},
   "cell_type": "code",
   "outputs": [],
   "execution_count": null,
   "source": [
    "raw_documents = TextLoader(\"tagged_description.txt\").load()\n",
    "text_splitter = CharacterTextSplitter(chunk_size=0, chunk_overlap=0, separator=\"\\n\")\n",
    "documents = text_splitter.split_documents(raw_documents)"
   ],
   "id": "32f97cbc9429773d"
  },
  {
   "metadata": {},
   "cell_type": "code",
   "outputs": [],
   "execution_count": null,
   "source": "documents[0]",
   "id": "cdf82220a623f0d0"
  },
  {
   "metadata": {},
   "cell_type": "code",
   "outputs": [],
   "execution_count": null,
   "source": [
    "from dotenv import load_dotenv\n",
    "import os\n",
    "\n",
    "# Load environment variables from .env file\n",
    "load_dotenv()\n",
    "\n",
    "# Now you can proceed with your original code\n",
    "db_books = Chroma.from_documents(\n",
    "    documents,\n",
    "    embedding=OpenAIEmbeddings()\n",
    ")"
   ],
   "id": "70a9e6fb98575e53"
  },
  {
   "metadata": {},
   "cell_type": "code",
   "outputs": [],
   "execution_count": null,
   "source": [
    "query = \"A book to teach children about nature\"\n",
    "docs = db_books.similarity_search(query, k = 10)\n",
    "docs"
   ],
   "id": "9bccd285425e6edd"
  },
  {
   "metadata": {
    "ExecuteTime": {
     "end_time": "2025-07-15T05:27:26.710444Z",
     "start_time": "2025-07-15T05:27:26.701849Z"
    }
   },
   "cell_type": "code",
   "source": [
    "# Remove quotes and convert to integer\n",
    "isbn = docs[0].page_content.split()[0].strip().replace('\"', '')\n",
    "books[books[\"isbn13\"] == int(isbn)]"
   ],
   "id": "fa8e8fa5c1665f86",
   "outputs": [
    {
     "data": {
      "text/plain": [
       "             isbn13      isbn10                                title  \\\n",
       "3747  9780786808069  0786808063  Baby Einstein: Neighborhood Animals   \n",
       "\n",
       "                                authors        categories  \\\n",
       "3747  Marilyn Singer;Julie Aigner-Clark  Juvenile Fiction   \n",
       "\n",
       "                                              thumbnail  \\\n",
       "3747  http://books.google.com/books/content?id=X9a4P...   \n",
       "\n",
       "                                            description  published_year  \\\n",
       "3747  Children will discover the exciting world of t...          2001.0   \n",
       "\n",
       "      average_rating  num_pages  ratings_count  \\\n",
       "3747            3.89       16.0          180.0   \n",
       "\n",
       "                       title_and_subtitle  \\\n",
       "3747  Baby Einstein: Neighborhood Animals   \n",
       "\n",
       "                                     tagged_description  \n",
       "3747  9780786808069 Children will discover the excit...  "
      ],
      "text/html": [
       "<div>\n",
       "<style scoped>\n",
       "    .dataframe tbody tr th:only-of-type {\n",
       "        vertical-align: middle;\n",
       "    }\n",
       "\n",
       "    .dataframe tbody tr th {\n",
       "        vertical-align: top;\n",
       "    }\n",
       "\n",
       "    .dataframe thead th {\n",
       "        text-align: right;\n",
       "    }\n",
       "</style>\n",
       "<table border=\"1\" class=\"dataframe\">\n",
       "  <thead>\n",
       "    <tr style=\"text-align: right;\">\n",
       "      <th></th>\n",
       "      <th>isbn13</th>\n",
       "      <th>isbn10</th>\n",
       "      <th>title</th>\n",
       "      <th>authors</th>\n",
       "      <th>categories</th>\n",
       "      <th>thumbnail</th>\n",
       "      <th>description</th>\n",
       "      <th>published_year</th>\n",
       "      <th>average_rating</th>\n",
       "      <th>num_pages</th>\n",
       "      <th>ratings_count</th>\n",
       "      <th>title_and_subtitle</th>\n",
       "      <th>tagged_description</th>\n",
       "    </tr>\n",
       "  </thead>\n",
       "  <tbody>\n",
       "    <tr>\n",
       "      <th>3747</th>\n",
       "      <td>9780786808069</td>\n",
       "      <td>0786808063</td>\n",
       "      <td>Baby Einstein: Neighborhood Animals</td>\n",
       "      <td>Marilyn Singer;Julie Aigner-Clark</td>\n",
       "      <td>Juvenile Fiction</td>\n",
       "      <td>http://books.google.com/books/content?id=X9a4P...</td>\n",
       "      <td>Children will discover the exciting world of t...</td>\n",
       "      <td>2001.0</td>\n",
       "      <td>3.89</td>\n",
       "      <td>16.0</td>\n",
       "      <td>180.0</td>\n",
       "      <td>Baby Einstein: Neighborhood Animals</td>\n",
       "      <td>9780786808069 Children will discover the excit...</td>\n",
       "    </tr>\n",
       "  </tbody>\n",
       "</table>\n",
       "</div>"
      ]
     },
     "execution_count": 104,
     "metadata": {},
     "output_type": "execute_result"
    }
   ],
   "execution_count": 104
  },
  {
   "metadata": {
    "ExecuteTime": {
     "end_time": "2025-07-15T05:27:45.442744Z",
     "start_time": "2025-07-15T05:27:45.439862Z"
    }
   },
   "cell_type": "code",
   "source": "print(docs[0].page_content)\n",
   "id": "279087ff5ce01bfe",
   "outputs": [
    {
     "name": "stdout",
     "output_type": "stream",
     "text": [
      "\"9780786808069 Children will discover the exciting world of their own backyard in this introduction to familiar animals from cats and dogs to bugs and frogs. The combination of photographs, illustrations, and fun facts make this an accessible and delightful learning experience.\"\n"
     ]
    }
   ],
   "execution_count": 105
  }
 ],
 "metadata": {
  "kernelspec": {
   "display_name": "Python 3",
   "language": "python",
   "name": "python3"
  },
  "language_info": {
   "codemirror_mode": {
    "name": "ipython",
    "version": 2
   },
   "file_extension": ".py",
   "mimetype": "text/x-python",
   "name": "python",
   "nbconvert_exporter": "python",
   "pygments_lexer": "ipython2",
   "version": "2.7.6"
  }
 },
 "nbformat": 4,
 "nbformat_minor": 5
}
